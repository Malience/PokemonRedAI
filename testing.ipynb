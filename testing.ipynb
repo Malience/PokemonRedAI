{
 "cells": [
  {
   "cell_type": "code",
   "execution_count": 4,
   "metadata": {},
   "outputs": [
    {
     "name": "stdout",
     "output_type": "stream",
     "text": [
      "The autoreload extension is already loaded. To reload it, use:\n",
      "  %reload_ext autoreload\n"
     ]
    }
   ],
   "source": [
    "%load_ext autoreload\n",
    "%autoreload 2\n",
    "\n",
    "import torch\n",
    "torch.set_default_device('cuda') \n",
    "\n",
    "import os.path\n",
    "from pathlib import Path\n",
    "import uuid\n",
    "\n",
    "sess_id = str(uuid.uuid4())[:8]\n",
    "sess_path = Path(f'session_{sess_id}')\n",
    "sess_path.mkdir(exist_ok=True)\n",
    "\n",
    "states_path = Path('states')\n",
    "states_path.mkdir(exist_ok=True)"
   ]
  },
  {
   "cell_type": "code",
   "execution_count": 5,
   "metadata": {},
   "outputs": [],
   "source": [
    "from emulator import Emulator, SIMPLE_ACTION_SPACE, MOVEMENT_ACTION_SPACE\n",
    "from pokered_vecenv import PokeRedVecEnv\n",
    "\n",
    "from explore_low_agent import ExploreLowAgent\n",
    "from basic_flee_agent import BasicFleeAgent\n",
    "\n",
    "from policy import Policy\n",
    "\n",
    "gb_path = './PokemonRed.gb'\n",
    "init_state = './has_pokedex_nballs.state'\n",
    "init_state = 'states/11_5_0-0.state'\n",
    "\n",
    "emulators = [Emulator(sess_path, gb_path, instance_id=f'main_{i}', headless=True) for i in range(10)]\n",
    "vec_env = PokeRedVecEnv(emulators, [init_state])\n",
    "\n",
    "flee_policy = Policy([], SIMPLE_ACTION_SPACE)\n",
    "flee_agent = BasicFleeAgent('flee_agent', SIMPLE_ACTION_SPACE)\n",
    "\n",
    "explore_policy = Policy([], MOVEMENT_ACTION_SPACE)\n",
    "explore_agent = ExploreLowAgent('explore_agent', MOVEMENT_ACTION_SPACE, 12)\n",
    "\n",
    "vec_env.register_agent(flee_agent)\n",
    "vec_env.register_agent(explore_agent)\n",
    "vec_env.initial_agent('explore_agent')\n",
    "\n",
    "policies = {'explore_agent': explore_policy, 'flee_agent': flee_policy}"
   ]
  },
  {
   "cell_type": "code",
   "execution_count": 6,
   "metadata": {},
   "outputs": [
    {
     "name": "stderr",
     "output_type": "stream",
     "text": [
      "g:\\Anaconda3\\envs\\pokey\\lib\\site-packages\\tqdm\\auto.py:21: TqdmWarning: IProgress not found. Please update jupyter and ipywidgets. See https://ipywidgets.readthedocs.io/en/stable/user_install.html\n",
      "  from .autonotebook import tqdm as notebook_tqdm\n"
     ]
    }
   ],
   "source": [
    "from ppo import PPOSettings, PPOTrainer\n",
    "pposettings = PPOSettings()\n",
    "ppo = PPOTrainer(policies['explore_agent'], pposettings)"
   ]
  },
  {
   "cell_type": "code",
   "execution_count": null,
   "metadata": {},
   "outputs": [],
   "source": [
    "from training import train\n",
    "\n",
    "#temp variables\n",
    "num_envs = 10\n",
    "num_steps = 400\n",
    "num_iterations = 100\n",
    "\n",
    "train(policies, vec_env, num_envs, 'explore_agent', ppo, num_steps=num_steps, num_iterations=num_iterations, verbose=True)"
   ]
  }
 ],
 "metadata": {
  "kernelspec": {
   "display_name": "pokey",
   "language": "python",
   "name": "python3"
  },
  "language_info": {
   "codemirror_mode": {
    "name": "ipython",
    "version": 3
   },
   "file_extension": ".py",
   "mimetype": "text/x-python",
   "name": "python",
   "nbconvert_exporter": "python",
   "pygments_lexer": "ipython3",
   "version": "3.10.13"
  }
 },
 "nbformat": 4,
 "nbformat_minor": 2
}
